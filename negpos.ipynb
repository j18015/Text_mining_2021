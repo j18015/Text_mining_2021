{
 "cells": [
  {
   "cell_type": "code",
   "execution_count": 26,
   "metadata": {},
   "outputs": [],
   "source": [
    "from wordcloud import WordCloud\n",
    "import MeCab\n",
    "import re\n",
    "from matplotlib import pyplot as plt\n",
    "import csv\n",
    "\n",
    "TXT_NAME = \"doc07\""
   ]
  },
  {
   "cell_type": "code",
   "execution_count": 27,
   "metadata": {},
   "outputs": [],
   "source": [
    "def get_word_str(text):\n",
    "    mecab = MeCab.Tagger(\"-d /usr/local/lib/mecab/dic/mecab-ipadic-neologd\")\n",
    "    parsed = mecab.parse(text)\n",
    "    lines = parsed.split('\\n')\n",
    "    lines = lines[0:-2]\n",
    "    word_list = []\n",
    "\n",
    "    for line in lines:\n",
    "        tmp = re.split('\\t|,', line)\n",
    "        #print(tmp)\n",
    "        # 名詞のみ対象\n",
    "        if tmp[1] in [\"名詞\"]:\n",
    "            # さらに絞り込み\n",
    "            #if tmp[2] in [\"一般\", \"固有名詞\"]:\n",
    "            word_list.append(tmp[0])\n",
    "\n",
    "    return \" \" . join(word_list)"
   ]
  },
  {
   "cell_type": "code",
   "execution_count": 28,
   "metadata": {},
   "outputs": [],
   "source": [
    "# テキストファイル読み込み\n",
    "read_text = open(TXT_NAME + \".txt\", encoding=\"utf8\").read()\n",
    "\n",
    "# 文字列取得\n",
    "word_str = get_word_str(read_text)"
   ]
  },
  {
   "cell_type": "code",
   "execution_count": 29,
   "metadata": {},
   "outputs": [
    {
     "data": {
      "text/plain": [
       "True"
      ]
     },
     "execution_count": 29,
     "metadata": {},
     "output_type": "execute_result"
    }
   ],
   "source": [
    "# Initialize Negative-Positive Dictionary\n",
    "pn_dic = {}\n",
    "fp = open('pn.csv', 'rt', encoding='utf-8') # ネガポジ辞書を読み込む\n",
    "reader = csv.reader(fp, delimiter='\\t')\n",
    "for i, row in enumerate(reader): # Pythonの辞書型に変換\n",
    "  name = row[0]\n",
    "  result = row[1]\n",
    "  pn_dic[name] = result\n",
    "\n",
    "# 色を返す関数\n",
    "def get_pn_color(word, font_size, **kwargs):\n",
    "    r, g, b = 0, 0, 0\n",
    "    pn = 'e'\n",
    "    if word in pn_dic:\n",
    "        pn = pn_dic[word]\n",
    "    if pn == 'p':\n",
    "        b = 200\n",
    "    elif pn == 'n':\n",
    "        r = 200\n",
    "    else:\n",
    "        g = 200\n",
    "    return (r, g, b)\n",
    "\n",
    "# Word Cloud\n",
    "def word_cloud(words, image_file,\n",
    "                font_path='/usr/share/fonts/opentype/ipaexfont-gothic/ipaexg.ttf'): #日本語フォントを指定\n",
    "    wordcloud = WordCloud(\n",
    "            background_color='white', \n",
    "            color_func=get_pn_color,\n",
    "            font_path=font_path,\n",
    "            max_font_size=40,\n",
    "            prefer_horizontal=1,\n",
    "            width=400, height=160).generate(words)\n",
    "    wordcloud.to_file(image_file)\n",
    "    return True\n",
    "\n",
    "image_file = 'doc07_np.jpg'\n",
    "trend_num = 100\n",
    "\n",
    "word_cloud(word_str, image_file)"
   ]
  },
  {
   "cell_type": "code",
   "execution_count": 39,
   "metadata": {},
   "outputs": [],
   "source": [
    "FONT_PATH = \"/usr/share/fonts/opentype/ipaexfont-gothic/ipaexg.ttf\""
   ]
  },
  {
   "cell_type": "code",
   "execution_count": 47,
   "metadata": {},
   "outputs": [
    {
     "data": {
      "text/plain": [
       "<wordcloud.wordcloud.WordCloud at 0x7fa7cac69e70>"
      ]
     },
     "execution_count": 47,
     "metadata": {},
     "output_type": "execute_result"
    }
   ],
   "source": [
    "def get_word_str(text):\n",
    "    mecab = MeCab.Tagger(\"-d /usr/local/lib/mecab/dic/mecab-ipadic-neologd\")\n",
    "    parsed = mecab.parse(text)\n",
    "    lines = parsed.split('\\n')\n",
    "    lines = lines[0:-2]\n",
    "    word_list = []\n",
    "\n",
    "    for line in lines:\n",
    "        tmp = re.split('\\t|,', line)\n",
    "        #print(tmp)\n",
    "        # 名詞のみ対象\n",
    "        if tmp[1] in [\"名詞\"]:\n",
    "            # さらに絞り込み\n",
    "            if tmp[2] in [\"一般\", \"固有名詞\"]:\n",
    "                word_list.append(tmp[0])\n",
    "\n",
    "    return \" \" . join(word_list)\n",
    "\n",
    "# テキストファイル読み込み\n",
    "read_text = open(TXT_NAME + \".txt\", encoding=\"utf8\").read()\n",
    "\n",
    "# 文字列取得\n",
    "word_str = get_word_str(read_text)\n",
    "\n",
    "# 画像作成\n",
    "wc = WordCloud(font_path=FONT_PATH, max_font_size=40,background_color=\"white\", prefer_horizontal=1, width=400, height=160).generate(word_str)\n",
    "\n",
    "# 画像保存（テキストファイル名で）\n",
    "wc.to_file(TXT_NAME+ \"_noun_\" + \".png\")"
   ]
  }
 ],
 "metadata": {
  "interpreter": {
   "hash": "53dd6951c3e76745109ebd6c68625b9592d8a3a92c9aa403b18f57914f9e4fdf"
  },
  "kernelspec": {
   "display_name": "Python 3.10.0 64-bit ('mecab': conda)",
   "language": "python",
   "name": "python3"
  },
  "language_info": {
   "codemirror_mode": {
    "name": "ipython",
    "version": 3
   },
   "file_extension": ".py",
   "mimetype": "text/x-python",
   "name": "python",
   "nbconvert_exporter": "python",
   "pygments_lexer": "ipython3",
   "version": "3.10.0"
  },
  "orig_nbformat": 4
 },
 "nbformat": 4,
 "nbformat_minor": 2
}
