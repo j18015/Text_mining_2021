{
 "cells": [
  {
   "cell_type": "code",
   "execution_count": 2,
   "metadata": {},
   "outputs": [],
   "source": [
    "import pandas as pd"
   ]
  },
  {
   "cell_type": "code",
   "execution_count": 3,
   "metadata": {},
   "outputs": [
    {
     "data": {
      "text/html": [
       "<div>\n",
       "<style scoped>\n",
       "    .dataframe tbody tr th:only-of-type {\n",
       "        vertical-align: middle;\n",
       "    }\n",
       "\n",
       "    .dataframe tbody tr th {\n",
       "        vertical-align: top;\n",
       "    }\n",
       "\n",
       "    .dataframe thead th {\n",
       "        text-align: right;\n",
       "    }\n",
       "</style>\n",
       "<table border=\"1\" class=\"dataframe\">\n",
       "  <thead>\n",
       "    <tr style=\"text-align: right;\">\n",
       "      <th></th>\n",
       "      <th>name</th>\n",
       "      <th>text</th>\n",
       "    </tr>\n",
       "  </thead>\n",
       "  <tbody>\n",
       "    <tr>\n",
       "      <th>0</th>\n",
       "      <td>数学II｜微分積分｜01｜極限値（高校数学・大学受験）</td>\n",
       "      <td>はいえーみなさんこんにちは数学微分積分の第1回目の講義になります\\n今日勉強していくのはこち...</td>\n",
       "    </tr>\n",
       "    <tr>\n",
       "      <th>1</th>\n",
       "      <td>数学II｜微分積分｜02｜平均変化率（高校数学・大学受験）</td>\n",
       "      <td>はいみなさんこんにちは\\n数学微分積分の第1回目の講義になります\\n超便超していくのは\\nこ...</td>\n",
       "    </tr>\n",
       "    <tr>\n",
       "      <th>2</th>\n",
       "      <td>数学II｜微分積分｜03｜微分係数（高校数学・大学受験）</td>\n",
       "      <td>みなさんこんにちは数学微分積分の第3回目の好機になります\\n今日勉強していくのはて\\nこちら...</td>\n",
       "    </tr>\n",
       "  </tbody>\n",
       "</table>\n",
       "</div>"
      ],
      "text/plain": [
       "                            name  \\\n",
       "0    数学II｜微分積分｜01｜極限値（高校数学・大学受験）   \n",
       "1  数学II｜微分積分｜02｜平均変化率（高校数学・大学受験）   \n",
       "2   数学II｜微分積分｜03｜微分係数（高校数学・大学受験）   \n",
       "\n",
       "                                                text  \n",
       "0  はいえーみなさんこんにちは数学微分積分の第1回目の講義になります\\n今日勉強していくのはこち...  \n",
       "1  はいみなさんこんにちは\\n数学微分積分の第1回目の講義になります\\n超便超していくのは\\nこ...  \n",
       "2  みなさんこんにちは数学微分積分の第3回目の好機になります\\n今日勉強していくのはて\\nこちら...  "
      ]
     },
     "execution_count": 3,
     "metadata": {},
     "output_type": "execute_result"
    }
   ],
   "source": [
    "df_file = pd.read_csv('kikuchiacademy_high2.csv')\n",
    "df_file.head(3)"
   ]
  },
  {
   "cell_type": "code",
   "execution_count": 4,
   "metadata": {},
   "outputs": [
    {
     "data": {
      "text/plain": [
       "str"
      ]
     },
     "execution_count": 4,
     "metadata": {},
     "output_type": "execute_result"
    }
   ],
   "source": [
    "text = df_file.text\n",
    "text_list = text.tolist()\n",
    "type(text_list[0])"
   ]
  },
  {
   "cell_type": "code",
   "execution_count": 5,
   "metadata": {},
   "outputs": [],
   "source": [
    "text_lists = []\n",
    "\n",
    "# \\nを消す\n",
    "for text in text_list:\n",
    "    tmp = text.replace('\\n', '')\n",
    "    text_lists.append(tmp)\n",
    "    \n",
    "#text_lists"
   ]
  },
  {
   "cell_type": "code",
   "execution_count": 6,
   "metadata": {},
   "outputs": [],
   "source": [
    "text_str = \"\".join(text_lists)\n",
    "\n",
    "text_file = 'kikuchiacademy.txt'\n",
    "\n",
    "with open(text_file, \"w\") as f:\n",
    "    f.write(text_str)\n",
    "\n",
    "#text_str"
   ]
  },
  {
   "cell_type": "code",
   "execution_count": 7,
   "metadata": {},
   "outputs": [],
   "source": [
    "import MeCab\n",
    "import re\n",
    "\n",
    "tagger = MeCab.Tagger(\"-d /usr/local/lib/mecab/dic/mecab-ipadic-neologd\")\n",
    "parsed = tagger.parse(text_str)\n",
    "lines = parsed.split('\\n')\n",
    "lines = lines[0:-2]\n",
    "#print(lines)\n",
    "word_list = []\n",
    "\n",
    "for line in lines:\n",
    "    tmp = re.split('\\t|,', line)\n",
    "    #print(tmp)\n",
    "    if tmp[1] in [\"名詞\", \"動詞\", \"形容詞\"]:\n",
    "        word_list.append(tmp[7])\n",
    "\n",
    "#print(word_list)\n",
    "\n",
    "text_file = 'toaru_math_high2_wakati.txt'\n",
    "\n",
    "with open(text_file, 'w', encoding='utf-8') as fp:\n",
    "    fp.write(\" \".join(word_list))\n"
   ]
  },
  {
   "cell_type": "code",
   "execution_count": 8,
   "metadata": {},
   "outputs": [],
   "source": [
    "with open(text_file, \"r\") as tf:\n",
    "    lines = tf.read().split(' ')\n",
    "\n",
    "stop_words = [ u'それ',u'これ', u'ここ', u'の', u'時', u'ん', u'こっち', u'マイナス', u'こと', u'ゼロ', u'さん', \n",
    "             u'よう', u'する', u'てる', u'なる', u'ある', u'いる',  u'やる', u'いく', \n",
    "             u'いう', u'言う', u'よい', u'良い', u'いい', u'ない',u'やすい',u'ほしい']\n",
    "\n",
    "words_list = [x for x in lines if x not in stop_words]\n",
    "\n",
    "text_file = 'toaru_math_high2_stop.txt'\n",
    "\n",
    "with open(text_file, 'w', encoding='utf-8') as fp:\n",
    "    fp.write(\" \".join(word_list))"
   ]
  },
  {
   "cell_type": "code",
   "execution_count": 9,
   "metadata": {},
   "outputs": [],
   "source": [
    "from gensim.models import word2vec\n",
    "\n",
    "data = word2vec.LineSentence(text_file)\n",
    "model = word2vec.Word2Vec(data, vector_size=200, window=3, min_count=5, sg=1, epochs=300)"
   ]
  },
  {
   "cell_type": "code",
   "execution_count": 9,
   "metadata": {},
   "outputs": [
    {
     "name": "stdout",
     "output_type": "stream",
     "text": [
      "[-0.08439366  0.18715335 -0.31237838 -0.4070697  -0.1154177  -0.02372531\n",
      "  0.3147061   0.2697047  -0.2177821  -0.08114984  0.6480555   0.25494236\n",
      "  0.37447226  0.01392095  0.12437666  0.2539646  -0.15775862 -0.0156327\n",
      " -0.29159245  0.12737888  0.03602055  0.01671758  0.6598965  -0.14657114\n",
      "  0.17774288 -0.17093892 -0.23686752 -0.01416805  0.34406543  0.66257066\n",
      " -0.15214747 -0.45524105  0.2757731  -0.13744108  0.6518879   0.34706172\n",
      "  0.4427391   0.33372143 -0.21514413 -0.10138156 -0.22751023 -0.380497\n",
      " -0.14672123  0.20290616  0.0694273   0.06131872 -0.21906221  0.21902692\n",
      " -0.31060094 -0.04104367 -0.4331715   0.06508325 -0.316225    0.02901366\n",
      " -0.25404567  0.11933799  0.07903457  0.01496399 -0.7062616  -0.15034711\n",
      " -0.36919907 -0.6606061  -0.1481457   0.6342044   0.01698529  0.00401439\n",
      "  0.02026289 -0.6089015  -0.118606   -0.23382993 -0.6336588   0.14570048\n",
      "  0.23596536  0.223086    0.08768277 -0.717072    0.16074142  0.15325814\n",
      " -0.3552537  -0.1194018  -0.13143298 -0.11126307 -0.08632227  0.14390962\n",
      "  0.1012153  -0.32113436 -0.72080946  0.33254135 -0.5042223   0.22393405\n",
      " -0.6755748   0.01014092 -0.02329069  0.0027591   0.12796001  0.5883206\n",
      "  0.20639881 -0.17967452 -0.00154612  0.34614542 -0.26428583 -0.15295522\n",
      "  0.01457694 -0.01109676  0.4670406  -0.12287759 -0.11473771 -0.11958048\n",
      " -0.27545384 -0.1979263   0.07316294 -0.35106027  0.4334593  -0.77569366\n",
      "  0.26570076 -0.19687767  0.20749216 -0.46958002 -0.06924244  0.62333745\n",
      "  0.44646132  0.6579989  -0.5410967   0.28391865  0.02049636  0.09351492\n",
      "  0.26536053  0.40139726 -0.4302344  -0.50506604 -0.09950112  0.11975289\n",
      " -0.14698863 -0.28524455  0.01773223  0.3186662  -0.7571385  -0.19573532\n",
      "  0.03037157 -0.20431261  0.2614934  -0.6731607  -0.5228543   0.26809672\n",
      " -0.391518   -0.5036331  -0.43081033 -0.05041698  0.49361676 -0.39508364\n",
      " -0.2737246  -0.03284938  0.998546   -0.38092077 -0.64459324 -0.10396032\n",
      " -0.09155837 -0.07695502 -0.12878361  0.29318762  0.12485991 -0.07707191\n",
      " -0.86582804 -0.23560233 -0.3266214  -0.1410286  -0.20045312  0.5807822\n",
      " -0.17046    -0.30658272 -0.50069445 -0.17892416  0.4245131  -0.05356268\n",
      "  0.22142808  0.38045043  0.5638326   0.20335384 -0.10737212 -0.02175418\n",
      "  0.08306593  0.04156177 -0.6428296  -0.372532    0.17556164  0.3175776\n",
      " -0.05022149  0.5579719   0.29279256  0.15537949 -0.22346163  0.17710075\n",
      "  0.37931737 -0.16353296  0.03098042  0.00274113 -0.22869453 -0.20107174\n",
      "  0.35828033  0.03167229]\n"
     ]
    }
   ],
   "source": [
    "print(model.__dict__['wv'][\"微分\"])"
   ]
  },
  {
   "cell_type": "code",
   "execution_count": 10,
   "metadata": {},
   "outputs": [
    {
     "ename": "KeyError",
     "evalue": "\"Key '積分' not present\"",
     "output_type": "error",
     "traceback": [
      "\u001b[0;31m---------------------------------------------------------------------------\u001b[0m",
      "\u001b[0;31mKeyError\u001b[0m                                  Traceback (most recent call last)",
      "\u001b[0;32m/tmp/ipykernel_1216/2145280928.py\u001b[0m in \u001b[0;36m<module>\u001b[0;34m\u001b[0m\n\u001b[0;32m----> 1\u001b[0;31m \u001b[0mmodel\u001b[0m\u001b[0;34m.\u001b[0m\u001b[0mwv\u001b[0m\u001b[0;34m.\u001b[0m\u001b[0msimilarity\u001b[0m\u001b[0;34m(\u001b[0m\u001b[0;34m\"微分\"\u001b[0m\u001b[0;34m,\u001b[0m \u001b[0;34m\"積分\"\u001b[0m\u001b[0;34m)\u001b[0m\u001b[0;34m\u001b[0m\u001b[0;34m\u001b[0m\u001b[0m\n\u001b[0m",
      "\u001b[0;32m~/anaconda3/envs/mecab/lib/python3.10/site-packages/gensim/models/keyedvectors.py\u001b[0m in \u001b[0;36msimilarity\u001b[0;34m(self, w1, w2)\u001b[0m\n\u001b[1;32m   1152\u001b[0m \u001b[0;34m\u001b[0m\u001b[0m\n\u001b[1;32m   1153\u001b[0m         \"\"\"\n\u001b[0;32m-> 1154\u001b[0;31m         \u001b[0;32mreturn\u001b[0m \u001b[0mdot\u001b[0m\u001b[0;34m(\u001b[0m\u001b[0mmatutils\u001b[0m\u001b[0;34m.\u001b[0m\u001b[0munitvec\u001b[0m\u001b[0;34m(\u001b[0m\u001b[0mself\u001b[0m\u001b[0;34m[\u001b[0m\u001b[0mw1\u001b[0m\u001b[0;34m]\u001b[0m\u001b[0;34m)\u001b[0m\u001b[0;34m,\u001b[0m \u001b[0mmatutils\u001b[0m\u001b[0;34m.\u001b[0m\u001b[0munitvec\u001b[0m\u001b[0;34m(\u001b[0m\u001b[0mself\u001b[0m\u001b[0;34m[\u001b[0m\u001b[0mw2\u001b[0m\u001b[0;34m]\u001b[0m\u001b[0;34m)\u001b[0m\u001b[0;34m)\u001b[0m\u001b[0;34m\u001b[0m\u001b[0;34m\u001b[0m\u001b[0m\n\u001b[0m\u001b[1;32m   1155\u001b[0m \u001b[0;34m\u001b[0m\u001b[0m\n\u001b[1;32m   1156\u001b[0m     \u001b[0;32mdef\u001b[0m \u001b[0mn_similarity\u001b[0m\u001b[0;34m(\u001b[0m\u001b[0mself\u001b[0m\u001b[0;34m,\u001b[0m \u001b[0mws1\u001b[0m\u001b[0;34m,\u001b[0m \u001b[0mws2\u001b[0m\u001b[0;34m)\u001b[0m\u001b[0;34m:\u001b[0m\u001b[0;34m\u001b[0m\u001b[0;34m\u001b[0m\u001b[0m\n",
      "\u001b[0;32m~/anaconda3/envs/mecab/lib/python3.10/site-packages/gensim/models/keyedvectors.py\u001b[0m in \u001b[0;36m__getitem__\u001b[0;34m(self, key_or_keys)\u001b[0m\n\u001b[1;32m    393\u001b[0m         \"\"\"\n\u001b[1;32m    394\u001b[0m         \u001b[0;32mif\u001b[0m \u001b[0misinstance\u001b[0m\u001b[0;34m(\u001b[0m\u001b[0mkey_or_keys\u001b[0m\u001b[0;34m,\u001b[0m \u001b[0m_KEY_TYPES\u001b[0m\u001b[0;34m)\u001b[0m\u001b[0;34m:\u001b[0m\u001b[0;34m\u001b[0m\u001b[0;34m\u001b[0m\u001b[0m\n\u001b[0;32m--> 395\u001b[0;31m             \u001b[0;32mreturn\u001b[0m \u001b[0mself\u001b[0m\u001b[0;34m.\u001b[0m\u001b[0mget_vector\u001b[0m\u001b[0;34m(\u001b[0m\u001b[0mkey_or_keys\u001b[0m\u001b[0;34m)\u001b[0m\u001b[0;34m\u001b[0m\u001b[0;34m\u001b[0m\u001b[0m\n\u001b[0m\u001b[1;32m    396\u001b[0m \u001b[0;34m\u001b[0m\u001b[0m\n\u001b[1;32m    397\u001b[0m         \u001b[0;32mreturn\u001b[0m \u001b[0mvstack\u001b[0m\u001b[0;34m(\u001b[0m\u001b[0;34m[\u001b[0m\u001b[0mself\u001b[0m\u001b[0;34m.\u001b[0m\u001b[0mget_vector\u001b[0m\u001b[0;34m(\u001b[0m\u001b[0mkey\u001b[0m\u001b[0;34m)\u001b[0m \u001b[0;32mfor\u001b[0m \u001b[0mkey\u001b[0m \u001b[0;32min\u001b[0m \u001b[0mkey_or_keys\u001b[0m\u001b[0;34m]\u001b[0m\u001b[0;34m)\u001b[0m\u001b[0;34m\u001b[0m\u001b[0;34m\u001b[0m\u001b[0m\n",
      "\u001b[0;32m~/anaconda3/envs/mecab/lib/python3.10/site-packages/gensim/models/keyedvectors.py\u001b[0m in \u001b[0;36mget_vector\u001b[0;34m(self, key, norm)\u001b[0m\n\u001b[1;32m    436\u001b[0m \u001b[0;34m\u001b[0m\u001b[0m\n\u001b[1;32m    437\u001b[0m         \"\"\"\n\u001b[0;32m--> 438\u001b[0;31m         \u001b[0mindex\u001b[0m \u001b[0;34m=\u001b[0m \u001b[0mself\u001b[0m\u001b[0;34m.\u001b[0m\u001b[0mget_index\u001b[0m\u001b[0;34m(\u001b[0m\u001b[0mkey\u001b[0m\u001b[0;34m)\u001b[0m\u001b[0;34m\u001b[0m\u001b[0;34m\u001b[0m\u001b[0m\n\u001b[0m\u001b[1;32m    439\u001b[0m         \u001b[0;32mif\u001b[0m \u001b[0mnorm\u001b[0m\u001b[0;34m:\u001b[0m\u001b[0;34m\u001b[0m\u001b[0;34m\u001b[0m\u001b[0m\n\u001b[1;32m    440\u001b[0m             \u001b[0mself\u001b[0m\u001b[0;34m.\u001b[0m\u001b[0mfill_norms\u001b[0m\u001b[0;34m(\u001b[0m\u001b[0;34m)\u001b[0m\u001b[0;34m\u001b[0m\u001b[0;34m\u001b[0m\u001b[0m\n",
      "\u001b[0;32m~/anaconda3/envs/mecab/lib/python3.10/site-packages/gensim/models/keyedvectors.py\u001b[0m in \u001b[0;36mget_index\u001b[0;34m(self, key, default)\u001b[0m\n\u001b[1;32m    410\u001b[0m             \u001b[0;32mreturn\u001b[0m \u001b[0mdefault\u001b[0m\u001b[0;34m\u001b[0m\u001b[0;34m\u001b[0m\u001b[0m\n\u001b[1;32m    411\u001b[0m         \u001b[0;32melse\u001b[0m\u001b[0;34m:\u001b[0m\u001b[0;34m\u001b[0m\u001b[0;34m\u001b[0m\u001b[0m\n\u001b[0;32m--> 412\u001b[0;31m             \u001b[0;32mraise\u001b[0m \u001b[0mKeyError\u001b[0m\u001b[0;34m(\u001b[0m\u001b[0;34mf\"Key '{key}' not present\"\u001b[0m\u001b[0;34m)\u001b[0m\u001b[0;34m\u001b[0m\u001b[0;34m\u001b[0m\u001b[0m\n\u001b[0m\u001b[1;32m    413\u001b[0m \u001b[0;34m\u001b[0m\u001b[0m\n\u001b[1;32m    414\u001b[0m     \u001b[0;32mdef\u001b[0m \u001b[0mget_vector\u001b[0m\u001b[0;34m(\u001b[0m\u001b[0mself\u001b[0m\u001b[0;34m,\u001b[0m \u001b[0mkey\u001b[0m\u001b[0;34m,\u001b[0m \u001b[0mnorm\u001b[0m\u001b[0;34m=\u001b[0m\u001b[0;32mFalse\u001b[0m\u001b[0;34m)\u001b[0m\u001b[0;34m:\u001b[0m\u001b[0;34m\u001b[0m\u001b[0;34m\u001b[0m\u001b[0m\n",
      "\u001b[0;31mKeyError\u001b[0m: \"Key '積分' not present\""
     ]
    }
   ],
   "source": [
    "model.wv.similarity(\"微分\", \"積分\")"
   ]
  },
  {
   "cell_type": "code",
   "execution_count": 11,
   "metadata": {},
   "outputs": [
    {
     "data": {
      "text/plain": [
       "[('二分', 0.35572922229766846),\n",
       " ('自分', 0.3361995220184326),\n",
       " ('細かい', 0.3057926297187805),\n",
       " ('導関数', 0.29597175121307373),\n",
       " ('整理', 0.2752842307090759),\n",
       " ('くれる', 0.27331024408340454),\n",
       " ('ケース', 0.2730694115161896),\n",
       " ('分ける', 0.2715640664100647),\n",
       " ('ルール', 0.27054786682128906),\n",
       " ('結局', 0.26607105135917664)]"
      ]
     },
     "execution_count": 11,
     "metadata": {},
     "output_type": "execute_result"
    }
   ],
   "source": [
    "model.wv.most_similar(['微分'])"
   ]
  },
  {
   "cell_type": "code",
   "execution_count": 20,
   "metadata": {},
   "outputs": [
    {
     "data": {
      "text/plain": [
       "[('積分', 0.27493682503700256),\n",
       " ('微分係数', 0.2691125273704529),\n",
       " ('話', 0.2481280416250229),\n",
       " ('一致', 0.248093381524086),\n",
       " ('する', 0.2456987500190735),\n",
       " ('ややこしい', 0.2433188408613205),\n",
       " ('FX', 0.23700259625911713),\n",
       " ('ラッシュ', 0.2333376705646515),\n",
       " ('札', 0.23279356956481934),\n",
       " ('分の', 0.23221580684185028)]"
      ]
     },
     "execution_count": 20,
     "metadata": {},
     "output_type": "execute_result"
    }
   ],
   "source": [
    "model.wv.most_similar(positive=['微分'])"
   ]
  },
  {
   "cell_type": "code",
   "execution_count": 21,
   "metadata": {},
   "outputs": [
    {
     "data": {
      "text/plain": [
       "[('ギリギリ', 0.07210024446249008),\n",
       " ('下', 0.06335872411727905),\n",
       " ('調べる', 0.06335373222827911),\n",
       " ('切れる', 0.05758646875619888),\n",
       " ('得る', 0.05680358409881592),\n",
       " ('はず', 0.04539894685149193),\n",
       " ('ちる', 0.042166367173194885),\n",
       " ('すぎる', 0.041545264422893524),\n",
       " ('チェック', 0.03970177471637726),\n",
       " ('あここ。', 0.03950200974941254)]"
      ]
     },
     "execution_count": 21,
     "metadata": {},
     "output_type": "execute_result"
    }
   ],
   "source": [
    "model.wv.most_similar(negative=['微分'])"
   ]
  },
  {
   "cell_type": "code",
   "execution_count": 22,
   "metadata": {},
   "outputs": [
    {
     "data": {
      "text/plain": [
       "[('席', 0.41891855001449585),\n",
       " ('微分・積分', 0.38878971338272095),\n",
       " ('気分', 0.35020679235458374),\n",
       " ('丸', 0.33946624398231506),\n",
       " ('観る', 0.32824039459228516),\n",
       " ('なさる', 0.3156711757183075),\n",
       " ('底', 0.29895246028900146),\n",
       " ('数理', 0.29642584919929504),\n",
       " ('タイトル', 0.29013124108314514),\n",
       " ('いち', 0.2889572083950043)]"
      ]
     },
     "execution_count": 22,
     "metadata": {},
     "output_type": "execute_result"
    }
   ],
   "source": [
    "model.wv.most_similar(positive=['積分'])"
   ]
  },
  {
   "cell_type": "code",
   "execution_count": 23,
   "metadata": {},
   "outputs": [
    {
     "data": {
      "text/plain": [
       "[('微分・積分', 0.37482455372810364),\n",
       " ('微分係数', 0.3458663821220398),\n",
       " ('席', 0.3412114679813385),\n",
       " ('ややこしい', 0.32117265462875366),\n",
       " ('気分', 0.31865087151527405),\n",
       " ('ルール', 0.3172301650047302),\n",
       " ('観る', 0.30929774045944214),\n",
       " ('その後', 0.30062419176101685),\n",
       " ('丸', 0.29783374071121216),\n",
       " ('不等式', 0.2932875454425812)]"
      ]
     },
     "execution_count": 23,
     "metadata": {},
     "output_type": "execute_result"
    }
   ],
   "source": [
    "model.wv.most_similar(positive=['微分', '積分']) # 微分+積分"
   ]
  },
  {
   "cell_type": "code",
   "execution_count": 12,
   "metadata": {},
   "outputs": [
    {
     "data": {
      "text/plain": [
       "[('表', 0.2926362454891205),\n",
       " ('増加', 0.27200013399124146),\n",
       " ('確認', 0.26602703332901),\n",
       " ('曲', 0.2629854083061218),\n",
       " ('あたり', 0.26142433285713196),\n",
       " ('左', 0.256904661655426),\n",
       " ('最小', 0.2554611563682556),\n",
       " ('者', 0.25105616450309753),\n",
       " ('患者', 0.25020620226860046),\n",
       " ('書ける', 0.2386971116065979)]"
      ]
     },
     "execution_count": 12,
     "metadata": {},
     "output_type": "execute_result"
    }
   ],
   "source": [
    "model.wv.most_similar(['グラフ'])"
   ]
  },
  {
   "cell_type": "code",
   "execution_count": 13,
   "metadata": {},
   "outputs": [
    {
     "data": {
      "text/plain": [
       "[('みなさん', 0.3989984691143036),\n",
       " ('微分・積分', 0.3773290812969208),\n",
       " ('はず', 0.3478487432003021),\n",
       " ('1回目', 0.3399965167045593),\n",
       " ('多い', 0.3289274573326111),\n",
       " ('良い', 0.3219640851020813),\n",
       " ('人', 0.313902348279953),\n",
       " ('因数', 0.2972472012042999),\n",
       " ('かっこいい', 0.2918347716331482),\n",
       " ('買う', 0.28783631324768066)]"
      ]
     },
     "execution_count": 13,
     "metadata": {},
     "output_type": "execute_result"
    }
   ],
   "source": [
    "model.wv.most_similar(positive=['数学'])"
   ]
  },
  {
   "cell_type": "code",
   "execution_count": 14,
   "metadata": {},
   "outputs": [
    {
     "data": {
      "text/plain": [
       "[('右側', 0.3697760999202728),\n",
       " ('処理', 0.3437296152114868),\n",
       " ('個', 0.3433646261692047),\n",
       " ('自分', 0.3413744568824768),\n",
       " ('底', 0.3402099311351776),\n",
       " ('一つ一つ', 0.3177368938922882),\n",
       " ('プラス', 0.30314013361930847),\n",
       " ('地点', 0.3015865385532379),\n",
       " ('近づける', 0.2990848124027252),\n",
       " ('COCO', 0.2970457673072815)]"
      ]
     },
     "execution_count": 14,
     "metadata": {},
     "output_type": "execute_result"
    }
   ],
   "source": [
    "model.wv.most_similar(positive=['高校'])"
   ]
  },
  {
   "cell_type": "code",
   "execution_count": 15,
   "metadata": {},
   "outputs": [
    {
     "data": {
      "text/plain": [
       "[('3次', 0.37524184584617615),\n",
       " ('決定', 0.36695045232772827),\n",
       " ('トイ', 0.3280194103717804),\n",
       " ('感想', 0.31281474232673645),\n",
       " ('増減', 0.30861029028892517),\n",
       " ('患者', 0.29056310653686523),\n",
       " ('導く', 0.28541579842567444),\n",
       " ('調べる', 0.2852820158004761),\n",
       " ('表', 0.2784276604652405),\n",
       " ('参上', 0.27805057168006897)]"
      ]
     },
     "execution_count": 15,
     "metadata": {},
     "output_type": "execute_result"
    }
   ],
   "source": [
    "model.wv.most_similar(positive=['関数'])"
   ]
  },
  {
   "cell_type": "code",
   "execution_count": 16,
   "metadata": {},
   "outputs": [
    {
     "data": {
      "text/plain": [
       "[('細い', 0.3363870680332184),\n",
       " ('もらう', 0.3351786732673645),\n",
       " ('指数', 0.31716644763946533),\n",
       " ('ルール', 0.3146246373653412),\n",
       " ('回', 0.3008738160133362),\n",
       " ('磨く', 0.2950468063354492),\n",
       " ('多い', 0.28809303045272827),\n",
       " ('度', 0.28804418444633484),\n",
       " ('言葉', 0.2867663502693176),\n",
       " ('読む', 0.28516247868537903)]"
      ]
     },
     "execution_count": 16,
     "metadata": {},
     "output_type": "execute_result"
    }
   ],
   "source": [
    "model.wv.most_similar(positive=['覚える'])"
   ]
  },
  {
   "cell_type": "code",
   "execution_count": 17,
   "metadata": {},
   "outputs": [
    {
     "data": {
      "text/plain": [
       "[('量', 0.5882117748260498),\n",
       " ('平均', 0.5795316100120544),\n",
       " ('率', 0.5154334306716919),\n",
       " ('変化率', 0.4528530240058899),\n",
       " ('近づける', 0.35959872603416443),\n",
       " ('はず', 0.35203319787979126),\n",
       " ('大体', 0.33756643533706665),\n",
       " ('結ぶ', 0.30649739503860474),\n",
       " ('細かい', 0.30571678280830383),\n",
       " ('レベル', 0.30544784665107727)]"
      ]
     },
     "execution_count": 17,
     "metadata": {},
     "output_type": "execute_result"
    }
   ],
   "source": [
    "model.wv.most_similar(['変化'])"
   ]
  },
  {
   "cell_type": "code",
   "execution_count": 18,
   "metadata": {},
   "outputs": [
    {
     "data": {
      "text/plain": [
       "[('微分・積分', 0.4515591859817505),\n",
       " ('先', 0.3681831955909729),\n",
       " ('考え方', 0.3317635953426361),\n",
       " ('みなさん', 0.30805888772010803),\n",
       " ('作業', 0.30644962191581726),\n",
       " ('難しい', 0.2731199562549591),\n",
       " ('講義', 0.27227309346199036),\n",
       " ('同様', 0.27163007855415344),\n",
       " ('やり方', 0.26988041400909424),\n",
       " ('1回目', 0.2689141035079956)]"
      ]
     },
     "execution_count": 18,
     "metadata": {},
     "output_type": "execute_result"
    }
   ],
   "source": [
    "model.wv.most_similar(['勉強'])"
   ]
  },
  {
   "cell_type": "code",
   "execution_count": 19,
   "metadata": {},
   "outputs": [
    {
     "data": {
      "text/plain": [
       "0.02603544"
      ]
     },
     "execution_count": 19,
     "metadata": {},
     "output_type": "execute_result"
    }
   ],
   "source": [
    "# model.wv.most_similar(positive=[word])で出力させる値を同じ\n",
    "model.wv.similarity('覚える', '公式')"
   ]
  },
  {
   "cell_type": "code",
   "execution_count": 20,
   "metadata": {},
   "outputs": [
    {
     "name": "stdout",
     "output_type": "stream",
     "text": [
      "[('RIVEN', 0.07339681), ('係数', 0.035605956), ('処理', 0.035176076), ('手', 0.025398353), ('日本語', 0.0231198), ('指数', 0.021791497), ('号', 0.021783024), ('分', 0.02001724), ('道', 0.017966747), ('繰り返す', 0.017770318)]\n"
     ]
    }
   ],
   "source": [
    "math = model.predict_output_word(['係数'])\n",
    "print(math)"
   ]
  },
  {
   "cell_type": "code",
   "execution_count": 18,
   "metadata": {},
   "outputs": [],
   "source": [
    "word = '長ったらしい'\n",
    "bibun = model.wv.most_similar(positive=[word])\n",
    "import pandas as pd \n",
    "df = pd.DataFrame(bibun)\n"
   ]
  },
  {
   "cell_type": "code",
   "execution_count": 11,
   "metadata": {},
   "outputs": [],
   "source": [
    "word1 = '微分'\n",
    "word2 = '覚える'\n",
    "bibun = model.wv.most_similar(positive=[word1, word2])\n",
    "import pandas as pd \n",
    "df = pd.DataFrame(bibun)"
   ]
  },
  {
   "cell_type": "code",
   "execution_count": 19,
   "metadata": {},
   "outputs": [],
   "source": [
    "df = df.rename(columns={0: '語句', 1:'類似度'})"
   ]
  },
  {
   "cell_type": "code",
   "execution_count": null,
   "metadata": {},
   "outputs": [],
   "source": [
    "import matplotlib as plt\n",
    "import japanize_matplotlib\n",
    "!pip install japanize-matplotlib"
   ]
  },
  {
   "cell_type": "code",
   "execution_count": 20,
   "metadata": {},
   "outputs": [
    {
     "data": {
      "text/plain": [
       "<AxesSubplot:title={'center':'長ったらしいに類似した言葉'}, ylabel='語句'>"
      ]
     },
     "execution_count": 20,
     "metadata": {},
     "output_type": "execute_result"
    },
    {
     "data": {
      "image/png": "[encoded data removed]",
      "text/plain": [
       "<Figure size 432x288 with 1 Axes>"
      ]
     },
     "metadata": {
      "needs_background": "light"
     },
     "output_type": "display_data"
    },
    {
     "data": {
      "image/png": "[encoded data removed]",
      "text/plain": [
       "<Figure size 432x288 with 1 Axes>"
      ]
     },
     "metadata": {
      "needs_background": "light"
     },
     "output_type": "display_data"
    }
   ],
   "source": [
    "df.plot(title=word + 'に類似した言葉', kind='barh', xlim=[0.2, 0.4], xticks=[0.2, 0.25, 0.3, 0.35, 0.4], x=\"語句\")\n",
    "df.plot.barh(title=word + 'に類似した言葉', x=\"語句\")"
   ]
  },
  {
   "cell_type": "code",
   "execution_count": 14,
   "metadata": {},
   "outputs": [
    {
     "data": {
      "text/plain": [
       "<AxesSubplot:title={'center':'微分＋覚えるに類似した言葉'}, ylabel='語句'>"
      ]
     },
     "execution_count": 14,
     "metadata": {},
     "output_type": "execute_result"
    },
    {
     "data": {
      "image/png": "[encoded data removed]",
      "text/plain": [
       "<Figure size 432x288 with 1 Axes>"
      ]
     },
     "metadata": {
      "needs_background": "light"
     },
     "output_type": "display_data"
    },
    {
     "data": {
      "image/png": "[encoded data removed]",
      "text/plain": [
       "<Figure size 432x288 with 1 Axes>"
      ]
     },
     "metadata": {
      "needs_background": "light"
     },
     "output_type": "display_data"
    }
   ],
   "source": [
    "df.plot(title=word1 + '＋' + word2 + 'に類似した言葉', kind='barh', xlim=[0.2, 0.4], xticks=[0.2, 0.25, 0.3, 0.35, 0.4], x=\"語句\")\n",
    "df.plot.barh(title=word1 + '＋' + word2 + 'に類似した言葉', x=\"語句\")"
   ]
  }
 ],
 "metadata": {
  "interpreter": {
   "hash": "53dd6951c3e76745109ebd6c68625b9592d8a3a92c9aa403b18f57914f9e4fdf"
  },
  "kernelspec": {
   "display_name": "Python 3.10.0 64-bit ('mecab': conda)",
   "language": "python",
   "name": "python3"
  },
  "language_info": {
   "codemirror_mode": {
    "name": "ipython",
    "version": 3
   },
   "file_extension": ".py",
   "mimetype": "text/x-python",
   "name": "python",
   "nbconvert_exporter": "python",
   "pygments_lexer": "ipython3",
   "version": "3.10.0"
  },
  "orig_nbformat": 4
 },
 "nbformat": 4,
 "nbformat_minor": 2
}
