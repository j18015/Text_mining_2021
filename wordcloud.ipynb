{
 "cells": [
  {
   "cell_type": "code",
   "execution_count": 1,
   "metadata": {},
   "outputs": [],
   "source": [
    "from wordcloud import WordCloud\n",
    "import MeCab\n",
    "import re\n",
    "from matplotlib import pyplot as plt"
   ]
  },
  {
   "cell_type": "code",
   "execution_count": 2,
   "metadata": {},
   "outputs": [],
   "source": [
    "FONT_PATH = \"/usr/share/fonts/opentype/ipaexfont-gothic/ipaexg.ttf\""
   ]
  },
  {
   "cell_type": "code",
   "execution_count": 29,
   "metadata": {},
   "outputs": [],
   "source": [
    "TXT_NAME = \"doc05_b\""
   ]
  },
  {
   "cell_type": "code",
   "execution_count": 30,
   "metadata": {},
   "outputs": [
    {
     "data": {
      "text/plain": [
       "<wordcloud.wordcloud.WordCloud at 0x7ff90843beb0>"
      ]
     },
     "execution_count": 30,
     "metadata": {},
     "output_type": "execute_result"
    }
   ],
   "source": [
    "def get_word_str(text):\n",
    "    mecab = MeCab.Tagger(\"-d /usr/local/lib/mecab/dic/mecab-ipadic-neologd\")\n",
    "    parsed = mecab.parse(text)\n",
    "    lines = parsed.split('\\n')\n",
    "    lines = lines[0:-2]\n",
    "    word_list = []\n",
    "\n",
    "    for line in lines:\n",
    "        tmp = re.split('\\t|,', line)\n",
    "        #print(tmp)\n",
    "        # 名詞のみ対象\n",
    "        if tmp[1] in [\"名詞\"]:\n",
    "            # さらに絞り込み\n",
    "            #if tmp[2] in [\"一般\", \"固有名詞\"]:\n",
    "            word_list.append(tmp[0])\n",
    "\n",
    "    return \" \" . join(word_list)\n",
    "\n",
    "# テキストファイル読み込み\n",
    "read_text = open(TXT_NAME + \".txt\", encoding=\"utf8\").read()\n",
    "\n",
    "# 文字列取得\n",
    "word_str = get_word_str(read_text)\n",
    "\n",
    "# 画像作成\n",
    "wc = WordCloud(font_path=FONT_PATH, max_font_size=40,background_color=\"white\", prefer_horizontal=1).generate(word_str)\n",
    "\n",
    "# 画像保存（テキストファイル名で）\n",
    "wc.to_file(TXT_NAME + \".png\")"
   ]
  }
 ],
 "metadata": {
  "interpreter": {
   "hash": "53dd6951c3e76745109ebd6c68625b9592d8a3a92c9aa403b18f57914f9e4fdf"
  },
  "kernelspec": {
   "display_name": "Python 3.10.0 64-bit ('mecab': conda)",
   "language": "python",
   "name": "python3"
  },
  "language_info": {
   "codemirror_mode": {
    "name": "ipython",
    "version": 3
   },
   "file_extension": ".py",
   "mimetype": "text/x-python",
   "name": "python",
   "nbconvert_exporter": "python",
   "pygments_lexer": "ipython3",
   "version": "3.10.0"
  },
  "orig_nbformat": 4
 },
 "nbformat": 4,
 "nbformat_minor": 2
}
